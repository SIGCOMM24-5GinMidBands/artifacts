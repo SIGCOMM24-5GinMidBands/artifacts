{
 "cells": [
  {
   "cell_type": "code",
   "execution_count": 1,
   "id": "2e847975-5627-4519-b8eb-658c0c153224",
   "metadata": {},
   "outputs": [],
   "source": [
    "SHOW_PLOT_FLAG = True"
   ]
  },
  {
   "cell_type": "code",
   "execution_count": 2,
   "id": "f13ac1a8-b696-4ef6-b0a2-1cc0d8a34e2e",
   "metadata": {},
   "outputs": [],
   "source": [
    "import sys\n",
    "\n",
    "sys.path.insert(0, '../')\n",
    "\n",
    "import pandas as pd\n",
    "import matplotlib.pyplot as plt\n",
    "import seaborn as sns\n",
    "from utils import *\n",
    "from constants import *\n",
    "import matplotlib.gridspec as gridspec\n"
   ]
  },
  {
   "cell_type": "markdown",
   "id": "85362543-76ad-4231-9130-8dfd234da6c0",
   "metadata": {},
   "source": [
    "# Figure 14"
   ]
  },
  {
   "cell_type": "markdown",
   "id": "4910f35e-7dba-4d15-bd4f-f5ef1a2d33bc",
   "metadata": {},
   "source": [
    "## Loading Data (Per seconds)"
   ]
  },
  {
   "cell_type": "code",
   "execution_count": 3,
   "id": "f2e969cb-3794-4722-8b4e-be256636f292",
   "metadata": {},
   "outputs": [],
   "source": [
    "data = pd.read_csv('CuratedData/V(t)_Locations.txt', sep='\\t')\n",
    "x = 'MCS'\n",
    "y = 'Mimo'"
   ]
  },
  {
   "cell_type": "code",
   "execution_count": 4,
   "id": "8451eb6f-7364-4a3b-a6fe-27ac50a578b0",
   "metadata": {},
   "outputs": [],
   "source": [
    "Location = ['A', 'B']\n",
    "colors = {\n",
    "    Location[0]: '#469990',\n",
    "    Location[1]: '#808000',\n",
    "}\n",
    "MARKERS = {\n",
    "    Location[0]: 'X',\n",
    "    Location[1]: '^',\n",
    "}"
   ]
  },
  {
   "cell_type": "markdown",
   "id": "ffa6f24d-caf4-4be4-a399-eb02085ac4ad",
   "metadata": {},
   "source": [
    "## Plotting Data"
   ]
  },
  {
   "cell_type": "code",
   "execution_count": 5,
   "id": "b5093347-24f4-4aed-b8aa-3197f1be7834",
   "metadata": {},
   "outputs": [
    {
     "name": "stdout",
     "output_type": "stream",
     "text": [
      "Saved Plot  Sec5_Fig14\n"
     ]
    }
   ],
   "source": [
    "fig = plt.figure(figsize=(5, 1.8))\n",
    "gs1 = gridspec.GridSpec(1, 2, wspace=0.6, hspace=0.5, top=.99, bottom=0.23, left=0.2, right=0.99, figure=fig)\n",
    "\n",
    "\n",
    "sil_A = data[data['config'].isin(['Sil_A'])]\n",
    "sil_B = data[data['config'].isin(['Sil_B'])]\n",
    "\n",
    "seq_A = data[data['config'].isin(['Seq_A'])]\n",
    "seq_B = data[data['config'].isin(['Seq_B'])]\n",
    "\n",
    "# ----------------------Plotting sil\n",
    "ax = plt.subplot(gs1[1])\n",
    "ax.yaxis.grid(True, which='major')\n",
    "ax.xaxis.grid(True, which='major')\n",
    "\n",
    "ax.scatter(sil_A[x], sil_A[y], color=colors['A'], label='Location A', marker=MARKERS['A'], s=50)\n",
    "ax.scatter(sil_B[x], sil_B[y], color=colors['B'], label='Location B', marker=MARKERS['B'], s=50)\n",
    "ax.set_xlim(0.5, 1.5)\n",
    "ax.annotate(\"Better\\nStability\", xy=(1.12, 0.15), xycoords=\"data\", \n",
    "    xytext=(0.75, 0.08), fontsize=10, color='k',\n",
    "    va=\"center\", ha=\"center\", \n",
    "    bbox=dict(boxstyle=\"round\", fc=\"w\", alpha=0),\n",
    "    arrowprops=dict(arrowstyle=\"<-\", color='k', lw=1))\n",
    "ax.annotate(\"B)\", xy=(1.12, 0.15), xycoords=\"data\", \n",
    "    xytext=(0.3, -0.04), fontsize=15, color='k',\n",
    "    va=\"center\", ha=\"center\", \n",
    "    bbox=dict(boxstyle=\"round\", fc=\"w\", alpha=0))\n",
    "\n",
    "ax.set_xlabel('MCS Variability\\n(inverted axis)', fontsize=12)\n",
    "ax.set_ylabel('Mimo Variability\\n(inverted axis)', fontsize=12)\n",
    "\n",
    "# ----------------------Plotting seq\n",
    "ax = plt.subplot(gs1[0])\n",
    "ax.yaxis.grid(True, which='major')\n",
    "ax.xaxis.grid(True, which='major')\n",
    "\n",
    "ax.scatter(seq_A[x], seq_A[y], color=colors['A'], label='Location A', marker=MARKERS['A'], s=50)\n",
    "ax.scatter(seq_B[x], seq_B[y], color=colors['B'], label='Location B', marker=MARKERS['B'], s=50)\n",
    "ax.set_xlim(0.5, 2)\n",
    "ax.set_ylim(-0.01, 0.22)\n",
    "ax.annotate(\"Better\\nStability\", xy=(1.7, 0.12), xycoords=\"data\", \n",
    "    xytext=(1, 0.07), fontsize=10, color='k',\n",
    "    va=\"center\", ha=\"center\", \n",
    "    bbox=dict(boxstyle=\"round\", fc=\"w\", alpha=0),\n",
    "    arrowprops=dict(arrowstyle=\"<-\", color='k', lw=1))\n",
    "ax.annotate(\"A)\", xy=(1.7, 0.12), xycoords=\"data\", \n",
    "    xytext=(0, -0.08), fontsize=15, color='k',\n",
    "    va=\"center\", ha=\"center\", \n",
    "    bbox=dict(boxstyle=\"round\", fc=\"w\", alpha=0))\n",
    "ax.set_xlabel('MCS Variability\\n(inverted axis)', fontsize=12)\n",
    "ax.set_ylabel('Mimo Variability\\n(inverted axis)', fontsize=12)\n",
    "plt.legend(loc='upper center', ncol=2, bbox_to_anchor=(1.3, 1.3))\n",
    "\n",
    "\n",
    "#### Showing plots\n",
    "plot_name = 'Fig14'\n",
    "plotme(plt, \" Sec5\", plot_name, show_flag=SHOW_PLOT_FLAG)\n",
    "plt.close(fig)\n",
    "\n"
   ]
  },
  {
   "cell_type": "code",
   "execution_count": null,
   "id": "5681bf4c-2e25-4292-9de0-285ec59195c2",
   "metadata": {},
   "outputs": [],
   "source": []
  },
  {
   "cell_type": "code",
   "execution_count": null,
   "id": "c09676ba-6292-462f-a878-1f43a81fa7bd",
   "metadata": {},
   "outputs": [],
   "source": []
  }
 ],
 "metadata": {
  "kernelspec": {
   "display_name": "Python 3 (ipykernel)",
   "language": "python",
   "name": "python3"
  },
  "language_info": {
   "codemirror_mode": {
    "name": "ipython",
    "version": 3
   },
   "file_extension": ".py",
   "mimetype": "text/x-python",
   "name": "python",
   "nbconvert_exporter": "python",
   "pygments_lexer": "ipython3",
   "version": "3.12.3"
  }
 },
 "nbformat": 4,
 "nbformat_minor": 5
}
