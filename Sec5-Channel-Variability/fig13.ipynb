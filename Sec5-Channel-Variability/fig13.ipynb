{
 "cells": [
  {
   "cell_type": "code",
   "execution_count": 1,
   "id": "2e847975-5627-4519-b8eb-658c0c153224",
   "metadata": {},
   "outputs": [],
   "source": [
    "SHOW_PLOT_FLAG = True"
   ]
  },
  {
   "cell_type": "code",
   "execution_count": 2,
   "id": "f13ac1a8-b696-4ef6-b0a2-1cc0d8a34e2e",
   "metadata": {},
   "outputs": [],
   "source": [
    "import sys\n",
    "\n",
    "sys.path.insert(0, '../')\n",
    "\n",
    "import pandas as pd\n",
    "import matplotlib.pyplot as plt\n",
    "import seaborn as sns\n",
    "from utils import *\n",
    "from constants import *\n",
    "import matplotlib.gridspec as gridspec\n"
   ]
  },
  {
   "cell_type": "markdown",
   "id": "85362543-76ad-4231-9130-8dfd234da6c0",
   "metadata": {},
   "source": [
    "# Figure 13"
   ]
  },
  {
   "cell_type": "markdown",
   "id": "4910f35e-7dba-4d15-bd4f-f5ef1a2d33bc",
   "metadata": {},
   "source": [
    "## Loading Data (Per seconds)"
   ]
  },
  {
   "cell_type": "code",
   "execution_count": 3,
   "id": "f2e969cb-3794-4722-8b4e-be256636f292",
   "metadata": {},
   "outputs": [],
   "source": [
    "O_Sp90 = pd.read_csv('CuratedData/O_Sp_90Mhz.txt', sep='\\t')\n",
    "O_Sp100 = pd.read_csv('CuratedData/O_Sp_100Mhz.txt', sep='\\t')\n",
    "V_Sp90 = pd.read_csv('CuratedData/V_Sp_90Mhz.txt', sep='\\t')\n",
    "V_It90 = pd.read_csv('CuratedData/V_It_90Mhz.txt', sep='\\t')\n",
    "tput = 'Tput(Mbps)'\n",
    "smooth_cols = ['MCS', 'RBs', 'layers']"
   ]
  },
  {
   "cell_type": "markdown",
   "id": "ffa6f24d-caf4-4be4-a399-eb02085ac4ad",
   "metadata": {},
   "source": [
    "## Plotting Data"
   ]
  },
  {
   "cell_type": "code",
   "execution_count": 4,
   "id": "b5093347-24f4-4aed-b8aa-3197f1be7834",
   "metadata": {},
   "outputs": [
    {
     "name": "stdout",
     "output_type": "stream",
     "text": [
      "Saved Plot  Sec5_Fig13_V_Sp_90Mhz\n",
      "Saved Plot  Sec5_Fig13_V_It_90Mhz\n",
      "Saved Plot  Sec5_Fig13_O_Sp_100Mhz\n",
      "Saved Plot  Sec5_Fig13_O_Sp_90Mhz\n"
     ]
    }
   ],
   "source": [
    "cdfList = [V_Sp90, V_It90, O_Sp100, O_Sp90]\n",
    "xx, yy = (0, 3600)\n",
    "\n",
    "for df in cdfList:\n",
    "    cf = df['config'].unique()[0]\n",
    "    fig = plt.figure(figsize=(7, 4.5))\n",
    "    gs1 = gridspec.GridSpec(4, 1, wspace=1, hspace=0.05, top=.99, bottom=0.23, left=0.2, right=0.99, figure=fig)\n",
    "\n",
    "    df[smooth_cols] = df[smooth_cols].astype(float)\n",
    "\n",
    "    ys = [tput, 'MCS', 'layers', 'RBs']\n",
    "    for i in range(len(ys)):\n",
    "        y = ys[i]\n",
    "        ax0 = plt.subplot(gs1[i])\n",
    "        tmpdf = df\n",
    "        if cf == 'V_It_90Mhz':\n",
    "            ax0.set_xticks([i for i in range(0,401, 100)])\n",
    "            ax0.set_xticklabels([i for i in range(0, 201, 50)], fontsize=12)\n",
    "        tmpDF = tmpdf.reset_index()\n",
    "        ax0.scatter(x=tmpDF['index'], y=tmpDF[y].round(), \n",
    "                    s=5, color=infernolist[i], alpha=0.5, zorder=10, label=y)\n",
    "        ax0.plot(tmpDF['index'], tmpDF[y].round(), \n",
    "                 color=infernolist[i], linewidth=0.8, alpha=0.5,\n",
    "                 zorder=10, label=y)\n",
    "\n",
    "        if y == 'RBs' and cf != 'V_It_90Mhz':\n",
    "            ax0.set_xticks([i for i in range(0, 530, 100)])\n",
    "            ax0.set_xticklabels([i for i in range(0, 266, 50)], fontsize=12)\n",
    "        if y == 'Tput(Mbps)':\n",
    "            ax0.set_ylim(-9, 890)\n",
    "            ax0.set_yticks([i for i in range(0, 805, 200)])\n",
    "            ax0.set_yticklabels([i for i in range(0, 805, 200)])\n",
    "        if i < 2:\n",
    "            ax0.set_xticklabels([], fontsize=12)   \n",
    "        ax0.set_ylabel(y, fontsize=12)\n",
    "        ax0.set_xlabel('Timeline (in seconds)', fontsize=12)\n",
    "        \n",
    "    #### Showing plots\n",
    "    plot_name = 'Fig13_'+cf\n",
    "    plotme(plt, \" Sec5\", plot_name, show_flag=SHOW_PLOT_FLAG)\n",
    "    plt.close(fig)\n"
   ]
  }
 ],
 "metadata": {
  "kernelspec": {
   "display_name": "Python 3 (ipykernel)",
   "language": "python",
   "name": "python3"
  },
  "language_info": {
   "codemirror_mode": {
    "name": "ipython",
    "version": 3
   },
   "file_extension": ".py",
   "mimetype": "text/x-python",
   "name": "python",
   "nbconvert_exporter": "python",
   "pygments_lexer": "ipython3",
   "version": "3.12.3"
  }
 },
 "nbformat": 4,
 "nbformat_minor": 5
}
