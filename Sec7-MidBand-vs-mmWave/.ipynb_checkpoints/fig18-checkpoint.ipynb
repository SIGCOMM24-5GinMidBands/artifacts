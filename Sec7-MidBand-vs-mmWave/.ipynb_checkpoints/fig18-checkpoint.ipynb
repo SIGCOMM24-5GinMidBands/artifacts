{
 "cells": [
  {
   "cell_type": "code",
   "execution_count": 1,
   "id": "cf1f0c50-26ef-470b-b0e4-65aa3038ac42",
   "metadata": {},
   "outputs": [],
   "source": [
    "SHOW_PLOT_FLAG = True"
   ]
  },
  {
   "cell_type": "code",
   "execution_count": 2,
   "id": "0f736ee8-0fd3-4f53-9481-447401042988",
   "metadata": {},
   "outputs": [],
   "source": [
    "import sys\n",
    "\n",
    "sys.path.insert(0, '../')\n",
    "\n",
    "import matplotlib\n",
    "matplotlib.rcParams['pdf.fonttype'] = 42\n",
    "matplotlib.rcParams['ps.fonttype'] = 42\n",
    "import pandas as pd\n",
    "import matplotlib.pyplot as plt\n",
    "import seaborn as sns\n",
    "from utils import *\n",
    "from constants import *\n",
    "import matplotlib.gridspec as gridspec\n"
   ]
  },
  {
   "cell_type": "markdown",
   "id": "28944daa-973d-4a9c-a921-48ed05b1c9ed",
   "metadata": {},
   "source": [
    "## Loading Drive data"
   ]
  },
  {
   "cell_type": "code",
   "execution_count": 3,
   "id": "d07b511a-3b30-442f-af93-f6d6ed69e5b1",
   "metadata": {},
   "outputs": [],
   "source": [
    "mmWave_drive = pd.read_csv('CuratedData/Tput_Drive_mmWave.txt', sep='\\t')\n",
    "Mid_band_drive = pd.read_csv('CuratedData/Tput_Drive_Mid-band.txt', sep='\\t')"
   ]
  },
  {
   "cell_type": "markdown",
   "id": "72563f58-a368-45ce-af9c-4a0c49af2dc4",
   "metadata": {},
   "source": [
    "## Loading Walk data"
   ]
  },
  {
   "cell_type": "code",
   "execution_count": 4,
   "id": "0d7729d7-1b3d-4f9e-9336-f7a9bf49f9e1",
   "metadata": {},
   "outputs": [],
   "source": [
    "mmWave_walk = pd.read_csv('CuratedData/Tput_Walk_mmWave.txt', sep='\\t')\n",
    "Mid_band_walk = pd.read_csv('CuratedData/Tput_Walk_Mid-band.txt', sep='\\t')"
   ]
  },
  {
   "cell_type": "code",
   "execution_count": 5,
   "id": "77d2576a-ad70-4fd6-9905-e7bf82dbeaae",
   "metadata": {},
   "outputs": [],
   "source": [
    "# Variable\n",
    "y = 'Tput(Mbps)'"
   ]
  },
  {
   "cell_type": "markdown",
   "id": "f0427da3-939e-4f94-b2ee-81337f667a93",
   "metadata": {},
   "source": [
    "## Compute Tput Variability and saving the processed files"
   ]
  },
  {
   "cell_type": "code",
   "execution_count": 6,
   "id": "f1f2a816-85b3-40b0-b466-678b9d5e08cc",
   "metadata": {},
   "outputs": [
    {
     "name": "stdout",
     "output_type": "stream",
     "text": [
      "---> Processing DF:  Mid-band-Drive\n",
      "---> Processing DF:  mmWave-Drive\n",
      "---> Processing DF:  mmWave-Walk\n",
      "---> Processing DF:  Mid-band-Walk\n"
     ]
    }
   ],
   "source": [
    "dfList = [Mid_band_drive, mmWave_drive, mmWave_walk, Mid_band_walk]\n",
    "chunkList = [i**2 for i in range(5, 29, 1)]\n",
    "cols = [y]\n",
    "ct = 0\n",
    "allDFs = {}\n",
    "for df in dfList:\n",
    "    cfg = df['config'].unique()[0]\n",
    "    print('---> Processing DF: ', cfg)\n",
    "    df = df[cols]#.dropna()\n",
    "    allDFs[cfg] = []\n",
    "    for chk in chunkList:\n",
    "        allDFs[cfg].append([chk] + get_smooth_metric(df, chk, flag='nonOverlap')[0].tolist())\n",
    "cdfList = []\n",
    "for c, lst in allDFs.items():\n",
    "    tmpDF = pd.DataFrame(lst, columns=['time(ms)']+cols)\n",
    "    tmpDF['config'] = c\n",
    "    if not os.path.exists('{}'.format('Data-Processed')):\n",
    "        os.makedirs('{}'.format('Data-Processed'))\n",
    "    tmpDF.to_csv('Data-Processed/'+c+'.txt', sep='\\t', index=False)\n",
    "    cdfList.append(tmpDF)"
   ]
  },
  {
   "cell_type": "markdown",
   "id": "565504fd-5dcc-49ea-b1ed-e7188820eae6",
   "metadata": {},
   "source": [
    "## Plotting"
   ]
  },
  {
   "cell_type": "code",
   "execution_count": 7,
   "id": "fd3a1263-6ceb-43c0-b50b-8eb5ff703021",
   "metadata": {},
   "outputs": [
    {
     "name": "stdout",
     "output_type": "stream",
     "text": [
      "Tput Variability of Mid-band----> 133.4446769441059\n",
      "Tput Variability of mmWave----> 333.32010102565056\n",
      " ======= ---> mmWave-Walk\n",
      "Tput Variability of mmWave-Walk----> 134.28186513748344\n",
      " ======= ---> Mid-Band-Walk\n",
      "Tput Variability of Mid-Band-Walk----> 39.29122377969235\n",
      "Saved Plot  Sec7_Fig18\n"
     ]
    }
   ],
   "source": [
    "fig = plt.figure(figsize=(14, 2.2))\n",
    "gs1 = gridspec.GridSpec(1, 8, wspace=1.9, hspace=1, top=.90, bottom=0.23, left=0.2, right=0.75, figure=fig)\n",
    "\n",
    "#### -----> Plotting Throughput variability Driving\n",
    "ax = plt.subplot(gs1[0, :2])\n",
    "x = 'time(ms)'\n",
    "c = 'config'\n",
    "for ct in range(len(cdfList)):\n",
    "    df = cdfList[ct]\n",
    "    if df[c].unique()[0] == \"Mid-band-Drive\":\n",
    "        m = 'SPA1_1'\n",
    "        s = 3\n",
    "        dif = 0\n",
    "        label = 'Mid-band'\n",
    "        ls = '--'\n",
    "        print('Tput Variability of ' + label + '----> ' + str(df.iloc[dif:][y].mean()))\n",
    "        ax.plot(df.iloc[dif:][x], df.iloc[dif:][y], color=colors[m], linestyle=ls, label=label, linewidth=0.7,\n",
    "                marker=MARKERS[m], ms=s)\n",
    "    elif df[c].unique()[0] == \"mmWave-Drive\":\n",
    "        m = 'GER2'\n",
    "        s = 3\n",
    "        dif = 0\n",
    "        label = 'mmWave'\n",
    "        ls = '-'\n",
    "        print('Tput Variability of ' + label + '----> ' + str(df.iloc[dif:][y].mean()))\n",
    "        ax.plot(df.iloc[dif:][x], df.iloc[dif:][y], color=colors[m], linestyle=ls, label=label, linewidth=0.7,\n",
    "                marker=MARKERS[m], ms=s)\n",
    "\n",
    "ax.annotate(\"Better\\nStability\", xy=(700, 120), xycoords=\"data\",\n",
    "    xytext=(700, 100), fontsize=10, color='k',\n",
    "    va=\"center\", ha=\"center\",\n",
    "    bbox=dict(boxstyle=\"round\", fc=\"w\", alpha=0),\n",
    "    arrowprops=dict(arrowstyle=\"<-\", color='k', lw=1))\n",
    "ax.set_xlabel('Time (in ms)', fontsize=12)\n",
    "ax.set_ylabel('Tput Variability', fontsize=12)\n",
    "ax.yaxis.grid(True, which='major')\n",
    "ax.xaxis.grid(True, which='major')\n",
    "ax.yaxis.set_label_coords(-0.28, 0.45)\n",
    "ax.xaxis.set_label_coords(0.5, -0.18)\n",
    "# ax.invert_yaxis()\n",
    "\n",
    "ax.annotate(\"Drive\", xy=(350, 115), xycoords=\"data\",\n",
    "    xytext=(350, 115), fontsize=12, color='#800000',\n",
    "    va=\"center\", ha=\"center\", weight='bold',\n",
    "    bbox=dict(boxstyle=\"round\", fc=\"w\", alpha=0, color='black'))\n",
    "\n",
    "\n",
    "#### -----> Plotting Throughput variability Walking\n",
    "ax = plt.subplot(gs1[0, 2:4])\n",
    "for ct in range(len(cdfList)):\n",
    "    df = cdfList[ct]\n",
    "    if df[c].unique()[0] == \"mmWave-Walk\":\n",
    "        m = 'FRA2'\n",
    "        s = 3\n",
    "        dif = 0\n",
    "        label = 'mmWave-Walk'\n",
    "        ls = '-'\n",
    "    elif df[c].unique()[0] == \"Mid-band-Walk\":\n",
    "        m = 'GER1'\n",
    "        s = 3\n",
    "        dif = 0\n",
    "        label = 'Mid-Band-Walk'\n",
    "        ls = '-'\n",
    "    else:\n",
    "        m = 0\n",
    "    if m != 0:\n",
    "        print(' ======= ---> ' + label)\n",
    "        print('Tput Variability of ' + label + '----> ' + str(df.iloc[dif:][y].mean()))\n",
    "        ax.plot(df.iloc[dif:][x], df.iloc[dif:][y], color=colors[m], linestyle=ls, label=label, linewidth=0.7,marker=MARKERS[m], ms=s)\n",
    "\n",
    "ax.annotate(\"Better\\nStability\", xy=(720, 360), xycoords=\"data\",\n",
    "    xytext=(720, 250), fontsize=10, color='k',\n",
    "    va=\"center\", ha=\"center\",\n",
    "    bbox=dict(boxstyle=\"round\", fc=\"w\", alpha=0),\n",
    "    arrowprops=dict(arrowstyle=\"<-\", color='k', lw=1))\n",
    "ax.set_xlabel('Time (in ms)', fontsize=12)\n",
    "ax.set_ylabel('Tput Variability', fontsize=12)\n",
    "ax.yaxis.grid(True, which='major')\n",
    "ax.xaxis.grid(True, which='major')\n",
    "# ax.set_xlim(49, 951)\n",
    "# ax.set_ylim(70, 270)\n",
    "ax.yaxis.set_label_coords(-0.28, 0.45)\n",
    "ax.xaxis.set_label_coords(0.5, -0.18)\n",
    "# ax.invert_yaxis()\n",
    "ax.annotate(\"Walk\", xy=(500, 300), xycoords=\"data\",\n",
    "    xytext=(500, 320), fontsize=12, color='#800000',\n",
    "    va=\"center\", ha=\"center\", weight='bold',\n",
    "    bbox=dict(boxstyle=\"round\", fc=\"w\", alpha=0, color='black'))\n",
    "\n",
    "\n",
    "#### Showing plots\n",
    "# Showing plot\n",
    "plot_name = 'Fig18'\n",
    "plotme(plt, \" Sec7\", plot_name, show_flag=SHOW_PLOT_FLAG)\n",
    "plt.close(fig)"
   ]
  },
  {
   "cell_type": "code",
   "execution_count": null,
   "id": "2e7ff104-ac79-42d8-ab57-cca26df70d37",
   "metadata": {},
   "outputs": [],
   "source": []
  },
  {
   "cell_type": "code",
   "execution_count": null,
   "id": "f4639570-ff2c-4096-8a21-e4d5c80563c8",
   "metadata": {},
   "outputs": [],
   "source": []
  }
 ],
 "metadata": {
  "kernelspec": {
   "display_name": "Python 3 (ipykernel)",
   "language": "python",
   "name": "python3"
  },
  "language_info": {
   "codemirror_mode": {
    "name": "ipython",
    "version": 3
   },
   "file_extension": ".py",
   "mimetype": "text/x-python",
   "name": "python",
   "nbconvert_exporter": "python",
   "pygments_lexer": "ipython3",
   "version": "3.12.3"
  }
 },
 "nbformat": 4,
 "nbformat_minor": 5
}
