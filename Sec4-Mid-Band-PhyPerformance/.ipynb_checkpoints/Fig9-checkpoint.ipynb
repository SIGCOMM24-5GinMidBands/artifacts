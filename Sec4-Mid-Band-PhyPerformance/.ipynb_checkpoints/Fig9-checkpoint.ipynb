{
 "cells": [
  {
   "cell_type": "code",
   "execution_count": 1,
   "id": "4dfa77c4-c00e-4082-bdc5-a1fc0681e997",
   "metadata": {},
   "outputs": [],
   "source": [
    "SHOW_PLOT_FLAG = True"
   ]
  },
  {
   "cell_type": "code",
   "execution_count": 2,
   "id": "3ad65bf7-eaad-43a8-84c6-26b3f577d4dc",
   "metadata": {},
   "outputs": [],
   "source": [
    "import sys\n",
    "\n",
    "sys.path.insert(0, '../')\n",
    "\n",
    "import pandas as pd\n",
    "import matplotlib.pyplot as plt\n",
    "import seaborn as sns\n",
    "from utils import *\n",
    "from constants import *\n",
    "import matplotlib.gridspec as gridspec\n"
   ]
  },
  {
   "cell_type": "markdown",
   "id": "fdd07799-917b-42bc-84c6-b6c5c6963eb1",
   "metadata": {},
   "source": [
    "# Figure 9"
   ]
  },
  {
   "cell_type": "markdown",
   "id": "330a2272-8700-4a2e-9dd4-653e41180514",
   "metadata": {},
   "source": [
    "## Loading Data (Per seconds)"
   ]
  },
  {
   "cell_type": "code",
   "execution_count": 3,
   "id": "805b0556-0c49-4428-8032-352d7971df32",
   "metadata": {},
   "outputs": [],
   "source": [
    "data = pd.read_csv('CuratedData/EU_Phy_UL_goodCQI.txt', sep='\\t')\n",
    "y = 'Tput(Mbps)'"
   ]
  },
  {
   "cell_type": "markdown",
   "id": "ef7317e9-5adf-4f4e-a90f-0b6cb93e8545",
   "metadata": {},
   "source": [
    "## Plotting Data"
   ]
  },
  {
   "cell_type": "code",
   "execution_count": 4,
   "id": "267982e3-265f-4c19-b445-2967e31054a8",
   "metadata": {},
   "outputs": [],
   "source": [
    "def add_median_labels(ax, precision='.1f', flag='noCA'):\n",
    "    lines = ax.get_lines()\n",
    "    boxes = [c for c in ax.get_children() if type(c).__name__ == 'PathPatch']\n",
    "    lines_per_box = int(len(lines) / len(boxes))\n",
    "    level = 0\n",
    "    l = 120\n",
    "    for median in lines[4:len(lines):lines_per_box]:\n",
    "        x, y = (data.mean() for data in median.get_data())\n",
    "        value = x if (median.get_xdata()[1] - median.get_xdata()[0]) == 0 else y\n",
    "        if x%2 == 0:\n",
    "            l = l+0\n",
    "        else:\n",
    "            l = l-0\n",
    "        text = ax.text(x, y + (l-y), f'{value:{precision}}', ha='center', va='center',\n",
    "                        color='#800000',  fontsize=9, zorder=20)\n",
    "        l = 120"
   ]
  },
  {
   "cell_type": "code",
   "execution_count": 5,
   "id": "b57d10bd-cefa-466c-9f7c-db85771b40b1",
   "metadata": {},
   "outputs": [
    {
     "name": "stdout",
     "output_type": "stream",
     "text": [
      "Showing Plot  Sec4_Fig9\n"
     ]
    },
    {
     "data": {
      "image/png": "[encoded data removed]",
      "text/plain": [
       "<Figure size 500x350 with 1 Axes>"
      ]
     },
     "metadata": {},
     "output_type": "display_data"
    }
   ],
   "source": [
    "fig = plt.figure(figsize=(5, 3.5))\n",
    "gs1 = gridspec.GridSpec(1, 1, wspace=0.8, hspace=0.2, top=.85, bottom=0.3, left=0.12, right=0.96, figure=fig)\n",
    "\n",
    "\n",
    "ax0 = plt.subplot(gs1[0])\n",
    "order = ['V_It', 'S_Fr', 'V_Ge', 'T_Ge', 'O_Fr',  'V_Sp', 'O_Sp_100Mhz', 'O_Sp_90Mhz']\n",
    "ax0.yaxis.grid(True, which='major')\n",
    "\n",
    "g = sns.boxplot(x='Config', y=y, data=data , dodge=True, width=0.5, showfliers=False, fliersize=0, ax=ax0, order=order)\n",
    "add_median_labels(ax0)\n",
    "    \n",
    "ax0.set_ylim(-10, 145)\n",
    "ax0.set_yticks([i for i in range(0, 145, 50)])#, fontsize=14)\n",
    "ax0.set_yticklabels([t for t in range(0, 145, 50)], fontsize=12)\n",
    "ax0.set_ylabel('PHY UL Tput(in Mbps)', fontsize=12)\n",
    "ax0.set_xlabel('Channel Bandwidth (in MHz)', fontsize=12)\n",
    "trans = ax0.get_xaxis_transform()\n",
    "\n",
    "bw = [str(80), str(80), str(90), str(90), str(90), str(90), str(90), str(100)]\n",
    "cfsORder = ['V_It', 'S_Fr', 'V_Ge',  'T_Ge', 'O_Fr', 'V_Sp', 'O_Sp', 'O_Sp' ]\n",
    "ax0.set_xticklabels(bw, fontsize=12)\n",
    "for x in range(len(cfsORder)):\n",
    "    text = ax0.text(x-0.1, 138, cfsORder[x], ha='center', va='center', color='#800000', fontsize=10, zorder=20)\n",
    "\n",
    "#### Showing plots\n",
    "plot_name = 'Fig9'\n",
    "plotme(plt, \" Sec4\", plot_name, show_flag=SHOW_PLOT_FLAG)\n",
    "plt.close(fig)\n",
    "\n"
   ]
  },
  {
   "cell_type": "code",
   "execution_count": null,
   "id": "8e0c48c9-92f6-48c4-8cdc-0b7d486b675e",
   "metadata": {},
   "outputs": [],
   "source": []
  },
  {
   "cell_type": "code",
   "execution_count": null,
   "id": "712f2847-d8d3-41a5-99ac-f3706e0e63f0",
   "metadata": {},
   "outputs": [],
   "source": []
  }
 ],
 "metadata": {
  "kernelspec": {
   "display_name": "Python 3 (ipykernel)",
   "language": "python",
   "name": "python3"
  },
  "language_info": {
   "codemirror_mode": {
    "name": "ipython",
    "version": 3
   },
   "file_extension": ".py",
   "mimetype": "text/x-python",
   "name": "python",
   "nbconvert_exporter": "python",
   "pygments_lexer": "ipython3",
   "version": "3.12.3"
  }
 },
 "nbformat": 4,
 "nbformat_minor": 5
}
