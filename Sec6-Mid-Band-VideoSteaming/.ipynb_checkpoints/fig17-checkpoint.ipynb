{
 "cells": [
  {
   "cell_type": "code",
   "execution_count": 1,
   "id": "a603770e-b2aa-470b-bdf3-ee1ddca5b8a0",
   "metadata": {},
   "outputs": [],
   "source": [
    "SHOW_PLOT_FLAG = True"
   ]
  },
  {
   "cell_type": "code",
   "execution_count": 2,
   "id": "fd5be356-8590-49f9-a58b-bd4effc1b8a0",
   "metadata": {},
   "outputs": [],
   "source": [
    "import sys\n",
    "\n",
    "sys.path.insert(0, '../')\n",
    "\n",
    "\n",
    "import matplotlib\n",
    "matplotlib.rcParams['pdf.fonttype'] = 42\n",
    "matplotlib.rcParams['ps.fonttype'] = 42\n",
    "import pandas as pd\n",
    "import matplotlib.pyplot as plt\n",
    "import seaborn as sns\n",
    "from utils import *\n",
    "from constants import *\n",
    "import matplotlib.gridspec as gridspec\n"
   ]
  },
  {
   "cell_type": "markdown",
   "id": "660ea2dc-e23b-4e63-8d27-77dfb996e1d8",
   "metadata": {},
   "source": [
    "## Loading QoE data"
   ]
  },
  {
   "cell_type": "code",
   "execution_count": 3,
   "id": "e649d585-460c-4816-b0e6-b4894156447a",
   "metadata": {},
   "outputs": [],
   "source": [
    "O_Fr = pd.read_csv('CuratedData/O_fr.txt', sep='\\t')\n",
    "V_Ge = pd.read_csv('CuratedData/V_Ge.txt', sep='\\t')\n",
    "cdf = [O_Fr, V_Ge]"
   ]
  },
  {
   "cell_type": "markdown",
   "id": "0cfe330c-e628-4927-8e29-5aed06dfad01",
   "metadata": {},
   "source": [
    "## Plotting"
   ]
  },
  {
   "cell_type": "code",
   "execution_count": 4,
   "id": "fe0ecbab-c97a-4c39-ad22-baa764e817e6",
   "metadata": {},
   "outputs": [
    {
     "name": "stdout",
     "output_type": "stream",
     "text": [
      "----Drive StallTime 1s 0.30287 Bitrate 0.5891706083593635\n",
      "----Drive StallTime 4s 0.376275510204082 Bitrate 0.35378985475953983\n",
      "----Drive StallTime 1s 0.221923694779116 Bitrate 0.9075314591700134\n",
      "----Drive StallTime 4s 0.965384 Bitrate 0.5594511378848728\n",
      "Showing Plot  Sec6_Fig17\n"
     ]
    },
    {
     "data": {
      "image/png": "[encoded data removed]",
      "text/plain": [
       "<Figure size 400x200 with 1 Axes>"
      ]
     },
     "metadata": {},
     "output_type": "display_data"
    }
   ],
   "source": [
    "fig = plt.figure(figsize=(4,2))\n",
    "gs1 = gridspec.GridSpec(1, 1, wspace=1.9, hspace=1, top=.90, bottom=0.23, left=0.2, right=0.75, figure=fig)\n",
    "\n",
    "br = 'bitrate'\n",
    "st = 'stallTime'\n",
    "chkSize = 'chkSize'\n",
    "\n",
    "####################=========> Plotting O_Fr\n",
    "ax0 = plt.subplot(gs1[0])\n",
    "\n",
    "\n",
    "for i in range(len(cdf)):\n",
    "    df = cdf[i]\n",
    "    \n",
    "    # GRoup stallTime\n",
    "    grouped_data_st_1s = df.groupby('chkSize')[st].agg(['mean', 'sem']).reset_index()\n",
    "    confidence_interval = 0.9  \n",
    "    grouped_data_st_1s['ci_low'] = grouped_data_st_1s['mean'] - confidence_interval * grouped_data_st_1s['sem']\n",
    "    grouped_data_st_1s['ci_high'] = grouped_data_st_1s['mean'] + confidence_interval * grouped_data_st_1s['sem']\n",
    "    \n",
    "    # GRoup bitrate\n",
    "    grouped_data_br_1s = df.groupby('chkSize')[br].agg(['mean', 'sem']).reset_index()\n",
    "    confidence_interval = 0.90 # 95% confidence interval\n",
    "    grouped_data_br_1s['ci_low'] = grouped_data_br_1s['mean'] - confidence_interval * grouped_data_br_1s['sem']\n",
    "    grouped_data_br_1s['ci_high'] = grouped_data_br_1s['mean'] + confidence_interval * grouped_data_br_1s['sem']\n",
    "    \n",
    "    \n",
    "    for c, df in df.groupby('chkSize'):\n",
    "        if c == '1s':\n",
    "            u = 'GER2'\n",
    "            label = '1s'\n",
    "            plotFlag = True\n",
    "        elif c == '4s':\n",
    "            u = 'SPA1_1'\n",
    "            label = '4s'\n",
    "            plotFlag = True\n",
    "        print('----Drive StallTime ' + label + ' ' + str(df[st].median()) + ' Bitrate ' + str(df[br].mean()))\n",
    "        ax0.scatter(df[st].median(), df[br].mean(), color=colors[u], label=c, s=20)\n",
    "        grpDF = grouped_data_br_1s[grouped_data_br_1s['chkSize'] == c]\n",
    "        ax0.errorbar(df[st].median(), df[br].mean(), yerr=[grpDF['mean'] - grpDF['ci_low'], grpDF['ci_high'] - grpDF['mean']],\n",
    "                     color=colors[u], fmt='o', linestyle=':', elinewidth=1, capsize=4, capthick=1.5)\n",
    "        grpDF = grouped_data_st_1s[grouped_data_st_1s['chkSize'] == c]\n",
    "        eb1 = ax0.errorbar(df[st].median(), df[br].mean(), \n",
    "                     xerr=[grpDF['mean'] - grpDF['ci_low'], grpDF['ci_high'] - grpDF['mean']],\n",
    "                    color=colors[u], fmt='o', elinewidth=1, capsize=4, capthick=1.5)\n",
    "        # if u == GER2\n",
    "        if i == 0:\n",
    "            eb1[-1][0].set_linestyle('--')\n",
    "\n",
    "\n",
    "ax0.yaxis.grid(True, which='major')\n",
    "ax0.xaxis.grid(True, which='major')\n",
    "ax0.set_xlim(0, 1.2)\n",
    "ax0.set_ylim([0.2,0.99])\n",
    "ax0.set_xlabel('Stall Time (in %)', fontsize=11)\n",
    "ax0.set_ylabel('Normalized Bitrate', fontsize=11)\n",
    "ax0.invert_xaxis() \n",
    "ax0.yaxis.set_label_coords(-0.13, 0.45)\n",
    "ax0.xaxis.set_label_coords(0.5, -0.18)\n",
    "\n",
    "ax0.annotate(\"Better QoE\", xy=(1, 0.32), xycoords=\"data\", \n",
    "    xytext=(0.5, 0.71), fontsize=10, color='k',\n",
    "    va=\"center\", ha=\"center\", \n",
    "    bbox=dict(boxstyle=\"round\", fc=\"w\", alpha=0),\n",
    "    arrowprops=dict(arrowstyle=\"<-\", color='k', lw=1))\n",
    "\n",
    "\n",
    "\n",
    "h1, = ax0.bar(-6, 1, edgecolor=colors['GER2'], color=colors['GER2'])\n",
    "h2, = ax0.bar(-8, 1, edgecolor=colors['SPA1_1'], color=colors['SPA1_1'])\n",
    "\n",
    "h1, = ax0.bar(-6, 1, edgecolor=colors['GER2'], color=colors['GER2'])\n",
    "h2, = ax0.bar(-8, 1, edgecolor=colors['SPA1_1'], color=colors['SPA1_1'])\n",
    "\n",
    "\n",
    "plt.legend((h1, h2), ('1s', '4s'),\n",
    "                    loc='upper center',ncol=1, columnspacing=0.8,\n",
    "                    bbox_to_anchor=(0.17, 0.94), facecolor='#dddddd',\n",
    "                    handlelength=1, framealpha=.3, fontsize = 10, markerscale=1)\n",
    "\n",
    "#### Showing plots\n",
    "plot_name = 'Fig17'\n",
    "plotme(plt, \" Sec6\", plot_name, show_flag=SHOW_PLOT_FLAG)\n",
    "plt.close(fig)\n"
   ]
  },
  {
   "cell_type": "code",
   "execution_count": null,
   "id": "9c82bdf5-fba3-4784-82e0-58c69faf45bd",
   "metadata": {},
   "outputs": [],
   "source": []
  }
 ],
 "metadata": {
  "kernelspec": {
   "display_name": "Python 3 (ipykernel)",
   "language": "python",
   "name": "python3"
  },
  "language_info": {
   "codemirror_mode": {
    "name": "ipython",
    "version": 3
   },
   "file_extension": ".py",
   "mimetype": "text/x-python",
   "name": "python",
   "nbconvert_exporter": "python",
   "pygments_lexer": "ipython3",
   "version": "3.12.3"
  }
 },
 "nbformat": 4,
 "nbformat_minor": 5
}
