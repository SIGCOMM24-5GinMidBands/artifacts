{
 "cells": [
  {
   "cell_type": "code",
   "execution_count": 1,
   "id": "7c8c5466-477b-4de7-b4cc-e44c36d6605b",
   "metadata": {},
   "outputs": [],
   "source": [
    "SHOW_PLOT_FLAG = True"
   ]
  },
  {
   "cell_type": "code",
   "execution_count": 2,
   "id": "1f6ae340-6423-46f3-b0fb-60e4281e236f",
   "metadata": {},
   "outputs": [],
   "source": [
    "import sys\n",
    "\n",
    "sys.path.insert(0, '../')\n",
    "\n",
    "import matplotlib\n",
    "import pandas as pd\n",
    "import matplotlib.pyplot as plt\n",
    "import seaborn as sns\n",
    "from utils import *\n",
    "from constants import *\n",
    "import matplotlib.gridspec as gridspec\n"
   ]
  },
  {
   "cell_type": "markdown",
   "id": "d8220697-f2be-420d-bcc4-26e367b1657a",
   "metadata": {},
   "source": [
    "## Loading data"
   ]
  },
  {
   "cell_type": "code",
   "execution_count": 3,
   "id": "52628ba2-4692-4615-a2a2-058c82606bde",
   "metadata": {},
   "outputs": [],
   "source": [
    "vt_QoE_data = pd.read_csv('Data-Processed/App_QoE_Vt.txt', sep='\\t', index_col=None)"
   ]
  },
  {
   "cell_type": "markdown",
   "id": "88dee951-8810-46c6-b66b-1040993e51f6",
   "metadata": {},
   "source": [
    "## Plotting"
   ]
  },
  {
   "cell_type": "code",
   "execution_count": 4,
   "id": "22d67639-5276-4482-91e4-00a0a2aa0918",
   "metadata": {},
   "outputs": [
    {
     "name": "stdout",
     "output_type": "stream",
     "text": [
      "Saved Plot  Sec6_Fig15\n"
     ]
    }
   ],
   "source": [
    "fig = plt.figure(figsize=(6,1.8))\n",
    "gs1 = gridspec.GridSpec(1, 2, wspace=0.28, hspace=0.5, top=.99, bottom=0.23, left=0.2, right=0.99, figure=fig)\n",
    "\n",
    "x='stallTime'\n",
    "y='bitrate'\n",
    "\n",
    "\n",
    "mcs = 'mcs'\n",
    "mimo = 'Mimo'\n",
    "\n",
    "\n",
    "ax0 = plt.subplot(gs1[0])\n",
    "ax1 = plt.subplot(gs1[1])\n",
    "\n",
    "\n",
    "for cf, df in vt_QoE_data.groupby('config'):\n",
    "    if 'V_It' in cf:\n",
    "        m = 'ITL1'\n",
    "        ax0.scatter(df[x], df[y], color='#800000', alpha=0.6, s = 90, label=cf, marker=MARKERS[m])\n",
    "        ax1.scatter(df[mcs], df[mimo], color='#800000', alpha=0.6, s = 90, label=cf, marker=MARKERS[m])\n",
    "    elif 'O_Sp' in cf:\n",
    "        \n",
    "        ax0.scatter(df.iloc[0][x], df.iloc[0][y], color='#3cb44b', alpha=0.6, s = 90, label=cf, marker=MARKERS['US1'])\n",
    "        ax1.scatter(df.iloc[0][mcs], df.iloc[0][mimo], color='#3cb44b', alpha=0.6, s = 90, label=cf, marker=MARKERS['US1'])\n",
    "        ax1.scatter(df.iloc[1][mcs], df.iloc[1][mimo], color='#000075', alpha=0.6, s = 90, label=cf, marker=MARKERS['ITL1'])\n",
    "        ax0.scatter(df.iloc[1][x], df.iloc[1][y], color='#000075', alpha=0.6, s = 90, label=cf, marker=MARKERS['ITL1'])\n",
    "\n",
    "\n",
    "ax0.invert_xaxis()\n",
    "ax0.set_xlim(-0.02, 1.6)\n",
    "ax0.set_ylim(0.68, 0.94)\n",
    "ax0.invert_xaxis()\n",
    "ax0.set_ylabel('Norm Bitrate')\n",
    "ax0.set_xlabel('Stall Time (%)')\n",
    "\n",
    "ax0.annotate(\"Better\\nQoE\", xy=(0.63, 0.88), xycoords=\"data\", \n",
    "    xytext=(1, 0.85), fontsize=10, color='k',\n",
    "    va=\"center\", ha=\"center\", \n",
    "    bbox=dict(boxstyle=\"round\", fc=\"w\", alpha=0),\n",
    "    arrowprops=dict(arrowstyle=\"->\", color='k', lw=1))\n",
    "\n",
    "\n",
    "ax1.set_xlabel('MCS Variability')\n",
    "ax1.set_ylabel('Mimo Variability')\n",
    "\n",
    "ax1.set_xlim(1.8, 7)\n",
    "ax1.set_ylim(0.5, 7)\n",
    "ax1.invert_xaxis()\n",
    "ax1.invert_yaxis()\n",
    "\n",
    "\n",
    "ax1.annotate(\"Better\\nVariability\", xy=(2.2, 3.8), xycoords=\"data\",\n",
    "    xytext=(4.2, 6), fontsize=10, color='k',\n",
    "    va=\"center\", ha=\"center\", \n",
    "    bbox=dict(boxstyle=\"round\", fc=\"w\", alpha=0),\n",
    "    arrowprops=dict(arrowstyle=\"->\", color='k', lw=1))\n",
    "ax0.text(1.2, 0.72, \"638Mbps\",\n",
    "        horizontalalignment='center',\n",
    "        verticalalignment='center',color=colors['US1'])\n",
    "ax0.text(0.5, 0.74 , \"642Mbps\",\n",
    "        horizontalalignment='center', rotation=0,\n",
    "        verticalalignment='center', color='#800000', alpha=0.9)\n",
    "ax0.text(1.35, 0.77, \"652Mbps\",\n",
    "        horizontalalignment='center', rotation=30,\n",
    "        verticalalignment='center', color=colors['FRA2'], alpha=0.7)\n",
    "ax1.annotate(\"\", xy=(6.6, 6.2), xycoords=\"data\", weight='bold',\n",
    "    xytext=(13, 5), fontsize=10, color='#800000',\n",
    "    va=\"center\", ha=\"center\", zorder=100, \n",
    "    bbox=dict(boxstyle=\"round\", fc=\"w\", alpha=0),\n",
    "    arrowprops=dict(arrowstyle=\"->\", color='#000075', alpha=0.5, lw=1, connectionstyle='arc3,rad=0.35', ))\n",
    "\n",
    "ax1.annotate(\"\", xy=(4.6, 3.1), xycoords=\"data\",\n",
    "    xytext=(12, 4.8), fontsize=10, color='#800000',\n",
    "    va=\"center\", ha=\"center\", \n",
    "    bbox=dict(boxstyle=\"round\", fc=\"w\", alpha=0),\n",
    "    arrowprops=dict(arrowstyle=\"->\", color=colors['US1'], lw=1, connectionstyle='arc3,rad=-0.15', ))\n",
    "\n",
    "ax1.annotate(\"\", xy=(3.5, 2.1), xycoords=\"data\",\n",
    "    xytext=(10, 4.4), fontsize=10, color='#800000',\n",
    "    va=\"center\", ha=\"center\", \n",
    "    bbox=dict(boxstyle=\"round\", fc=\"w\", alpha=0),\n",
    "    arrowprops=dict(arrowstyle=\"->\", color='#800000', lw=1, connectionstyle='arc3,rad=-0.22', ))\n",
    "\n",
    "\n",
    "#### Showing plots\n",
    "plot_name = 'Fig15'\n",
    "plotme(plt, \" Sec6\", plot_name, show_flag=SHOW_PLOT_FLAG)\n",
    "plt.close(fig)"
   ]
  },
  {
   "cell_type": "code",
   "execution_count": null,
   "id": "29ac2eb5-257d-4a03-9c76-931446b0699c",
   "metadata": {},
   "outputs": [],
   "source": []
  }
 ],
 "metadata": {
  "kernelspec": {
   "display_name": "Python 3 (ipykernel)",
   "language": "python",
   "name": "python3"
  },
  "language_info": {
   "codemirror_mode": {
    "name": "ipython",
    "version": 3
   },
   "file_extension": ".py",
   "mimetype": "text/x-python",
   "name": "python",
   "nbconvert_exporter": "python",
   "pygments_lexer": "ipython3",
   "version": "3.12.3"
  }
 },
 "nbformat": 4,
 "nbformat_minor": 5
}
